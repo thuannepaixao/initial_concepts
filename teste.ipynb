{
  "nbformat": 4,
  "nbformat_minor": 0,
  "metadata": {
    "colab": {
      "provenance": [],
      "toc_visible": true
    },
    "kernelspec": {
      "name": "python3",
      "display_name": "Python 3"
    },
    "language_info": {
      "name": "python"
    }
  },
  "cells": [
    {
      "cell_type": "markdown",
      "source": [
        "# **Introdução**"
      ],
      "metadata": {
        "id": "Bed-lv_vCgUs"
      }
    },
    {
      "cell_type": "code",
      "execution_count": null,
      "metadata": {
        "id": "AyFe2zZmxWlI"
      },
      "outputs": [],
      "source": [
        "print ('Olá Mundo')"
      ]
    },
    {
      "cell_type": "code",
      "source": [
        "mensagem = 'Olá Mundo'"
      ],
      "metadata": {
        "id": "O6bFvWUWCc6-"
      },
      "execution_count": null,
      "outputs": []
    },
    {
      "cell_type": "code",
      "source": [
        "print (mensagem)"
      ],
      "metadata": {
        "id": "RIMfxdRSD_wB"
      },
      "execution_count": null,
      "outputs": []
    },
    {
      "cell_type": "code",
      "source": [
        "nome = input ('Qual é o seu nome?')"
      ],
      "metadata": {
        "id": "6ZkEenaPEEYj"
      },
      "execution_count": null,
      "outputs": []
    },
    {
      "cell_type": "code",
      "source": [
        "print ('Meu nome é:', nome)"
      ],
      "metadata": {
        "id": "_6DRhTrPEM5F"
      },
      "execution_count": null,
      "outputs": []
    },
    {
      "cell_type": "markdown",
      "source": [
        "# **Operadores Matemáticos**"
      ],
      "metadata": {
        "id": "cDFqDmSxE8YL"
      }
    },
    {
      "cell_type": "code",
      "source": [
        "n1 = 7"
      ],
      "metadata": {
        "id": "iJXnpTyzFCQn"
      },
      "execution_count": null,
      "outputs": []
    },
    {
      "cell_type": "code",
      "source": [
        "n2 = 2"
      ],
      "metadata": {
        "id": "fBp7ZiY7FFIb"
      },
      "execution_count": null,
      "outputs": []
    },
    {
      "cell_type": "code",
      "source": [
        "s = n1 + n2\n",
        "print (s)"
      ],
      "metadata": {
        "id": "cK1gUY_jFGtu"
      },
      "execution_count": null,
      "outputs": []
    },
    {
      "cell_type": "code",
      "source": [
        "s = s + n2\n",
        "print (s)"
      ],
      "metadata": {
        "id": "eN07KZQzFYjz"
      },
      "execution_count": null,
      "outputs": []
    },
    {
      "cell_type": "code",
      "source": [
        "s += n2\n",
        "print (s)"
      ],
      "metadata": {
        "id": "wPRU6cNGFmGM"
      },
      "execution_count": null,
      "outputs": []
    },
    {
      "cell_type": "code",
      "source": [
        "sub = n1 - n2\n",
        "sub"
      ],
      "metadata": {
        "id": "YgoH9v3HGDhF"
      },
      "execution_count": null,
      "outputs": []
    },
    {
      "cell_type": "code",
      "source": [
        "mult = n1 * n2\n",
        "mult"
      ],
      "metadata": {
        "id": "jjDDWWsVJVB0"
      },
      "execution_count": null,
      "outputs": []
    },
    {
      "cell_type": "code",
      "source": [
        "div = n1 / n2\n",
        "div"
      ],
      "metadata": {
        "id": "d2I2fXh8JeBA"
      },
      "execution_count": null,
      "outputs": []
    },
    {
      "cell_type": "code",
      "source": [
        "pot = n1**n2\n",
        "pot"
      ],
      "metadata": {
        "id": "y0H6VHTQJkAo"
      },
      "execution_count": null,
      "outputs": []
    },
    {
      "cell_type": "code",
      "source": [
        "pot2 = pow (n1,n2)\n",
        "pot2"
      ],
      "metadata": {
        "id": "nHlXvqlEJrGt"
      },
      "execution_count": null,
      "outputs": []
    },
    {
      "cell_type": "code",
      "source": [
        "divi = n1 // n2\n",
        "divi"
      ],
      "metadata": {
        "id": "MB-6KCttJySc"
      },
      "execution_count": null,
      "outputs": []
    },
    {
      "cell_type": "code",
      "source": [
        "rest = n1 % n2\n",
        "rest"
      ],
      "metadata": {
        "id": "50Nt_AyrJ7ph"
      },
      "execution_count": null,
      "outputs": []
    },
    {
      "cell_type": "markdown",
      "source": [],
      "metadata": {
        "id": "DJP6eyuILawJ"
      }
    },
    {
      "cell_type": "markdown",
      "source": [
        "# **Importações de bibliotecas (pacotes) e módulos**"
      ],
      "metadata": {
        "id": "64cDN8lhLa7M"
      }
    },
    {
      "cell_type": "code",
      "source": [
        "import numpy as np"
      ],
      "metadata": {
        "id": "zQJHmapdLj9B"
      },
      "execution_count": null,
      "outputs": []
    },
    {
      "cell_type": "markdown",
      "source": [
        "https://numpy.org/devdocs/user/whatisnumpy.html"
      ],
      "metadata": {
        "id": "5_061FN8L6GP"
      }
    },
    {
      "cell_type": "code",
      "source": [
        "# raiz_quadrada = sqrt (25)"
      ],
      "metadata": {
        "id": "Ge9zZjQmMPfH"
      },
      "execution_count": null,
      "outputs": []
    },
    {
      "cell_type": "code",
      "source": [
        "import math"
      ],
      "metadata": {
        "id": "bH79PU2KMiRU"
      },
      "execution_count": null,
      "outputs": []
    },
    {
      "cell_type": "markdown",
      "source": [
        "https://docs.python.org/pt-br/3/library/math.html"
      ],
      "metadata": {
        "id": "CYuOi4c1Mkjh"
      }
    },
    {
      "cell_type": "code",
      "source": [
        "n = 18"
      ],
      "metadata": {
        "id": "aMdC2TAFM2_g"
      },
      "execution_count": null,
      "outputs": []
    },
    {
      "cell_type": "code",
      "source": [
        "raiz = math.sqrt(n)\n",
        "print ('A raiz de {} é igual a {:.2f}'.format (n, raiz))"
      ],
      "metadata": {
        "id": "SolO-o5dNEcj"
      },
      "execution_count": null,
      "outputs": []
    },
    {
      "cell_type": "code",
      "source": [
        "print(raiz)"
      ],
      "metadata": {
        "id": "pwTR8p2ONYT0"
      },
      "execution_count": null,
      "outputs": []
    },
    {
      "cell_type": "code",
      "source": [
        "math.sqrt(18)"
      ],
      "metadata": {
        "id": "vjZQq5hYOIQM"
      },
      "execution_count": null,
      "outputs": []
    },
    {
      "cell_type": "code",
      "source": [
        "print(f'A raiz quadrada de {n} é {raiz:.2f}')"
      ],
      "metadata": {
        "id": "YpqcyGN6NwYK"
      },
      "execution_count": null,
      "outputs": []
    },
    {
      "cell_type": "code",
      "source": [
        "raiz2 = n ** 0.5\n",
        "print (raiz2)"
      ],
      "metadata": {
        "id": "OW2jtFpiN5BJ"
      },
      "execution_count": null,
      "outputs": []
    },
    {
      "cell_type": "code",
      "source": [
        "print(f'{raiz2:.3f}')"
      ],
      "metadata": {
        "id": "AXOP9uRhOi57"
      },
      "execution_count": null,
      "outputs": []
    },
    {
      "cell_type": "code",
      "source": [
        "print ('{:.3f}'.format(raiz2))"
      ],
      "metadata": {
        "id": "ormpea0YOn4x"
      },
      "execution_count": null,
      "outputs": []
    },
    {
      "cell_type": "code",
      "source": [
        "sqrt(36)"
      ],
      "metadata": {
        "id": "GE7UUcVcPBGO"
      },
      "execution_count": null,
      "outputs": []
    },
    {
      "cell_type": "code",
      "source": [
        "from math import sqrt\n",
        "raiz3 = sqrt(n)\n",
        "print (f'{raiz3:.2f}')"
      ],
      "metadata": {
        "id": "oLtPa-6qPDlk"
      },
      "execution_count": null,
      "outputs": []
    },
    {
      "cell_type": "code",
      "source": [
        "sqrt(36)"
      ],
      "metadata": {
        "id": "3zsqSVKZWvdu"
      },
      "execution_count": null,
      "outputs": []
    },
    {
      "cell_type": "code",
      "source": [
        "from math import sqrt, factorial"
      ],
      "metadata": {
        "id": "TyROnJ5hWyyf"
      },
      "execution_count": null,
      "outputs": []
    },
    {
      "cell_type": "code",
      "source": [
        "fat = factorial(5)    #fatorial: 4! = 4.3.2 = 24\n",
        "                      #          5! = 5.4.3.2 = 120\n",
        "fat"
      ],
      "metadata": {
        "id": "IIYW7g92W-t-"
      },
      "execution_count": null,
      "outputs": []
    },
    {
      "cell_type": "code",
      "source": [
        "factorial(8)"
      ],
      "metadata": {
        "id": "Q3T_Z6zAXmRk"
      },
      "execution_count": null,
      "outputs": []
    },
    {
      "cell_type": "code",
      "source": [
        "fatorial_raiz = factorial(int(sqrt(16)))\n",
        "fatorial_raiz"
      ],
      "metadata": {
        "id": "LXpXxtqCXEBH"
      },
      "execution_count": null,
      "outputs": []
    },
    {
      "cell_type": "code",
      "source": [
        "fatorial_raiz = math.factorial(int(math.sqrt(16)))\n",
        "fatorial_raiz"
      ],
      "metadata": {
        "id": "6McMWlCtYblE"
      },
      "execution_count": null,
      "outputs": []
    },
    {
      "cell_type": "code",
      "source": [
        "import random\n",
        "num = random.randint (1,10)\n",
        "print (num)"
      ],
      "metadata": {
        "id": "8mO3c54QYk4U"
      },
      "execution_count": null,
      "outputs": []
    },
    {
      "cell_type": "code",
      "source": [
        "random."
      ],
      "metadata": {
        "id": "oiDMKO1-ZPEu"
      },
      "execution_count": null,
      "outputs": []
    },
    {
      "cell_type": "markdown",
      "source": [
        "https://docs.python.org/pt-br/3.7/library/random.html"
      ],
      "metadata": {
        "id": "htxEpqp-ZRyH"
      }
    },
    {
      "cell_type": "code",
      "source": [
        "from random import random, randint"
      ],
      "metadata": {
        "id": "NVlRsJpaZqou"
      },
      "execution_count": null,
      "outputs": []
    },
    {
      "cell_type": "code",
      "source": [
        "random?"
      ],
      "metadata": {
        "id": "hlw9mOoSbVAF"
      },
      "execution_count": null,
      "outputs": []
    },
    {
      "cell_type": "code",
      "source": [
        "num2 = random()\n",
        "num2"
      ],
      "metadata": {
        "id": "5dgK84Xkbj-8"
      },
      "execution_count": null,
      "outputs": []
    },
    {
      "cell_type": "code",
      "source": [
        "randint?"
      ],
      "metadata": {
        "id": "EhLy89_5bj2W"
      },
      "execution_count": null,
      "outputs": []
    },
    {
      "cell_type": "code",
      "source": [
        "randint(2,15)"
      ],
      "metadata": {
        "id": "0WktojCpbkGt"
      },
      "execution_count": null,
      "outputs": []
    },
    {
      "cell_type": "markdown",
      "source": [
        "# **Estrutura Condicional**"
      ],
      "metadata": {
        "id": "UjYw0GX1cmns"
      }
    },
    {
      "cell_type": "code",
      "source": [
        "nota = 7"
      ],
      "metadata": {
        "id": "aAixRIF1crLs"
      },
      "execution_count": null,
      "outputs": []
    },
    {
      "cell_type": "code",
      "source": [
        "if nota >=  6:\n",
        "  print('Aprovado')\n",
        "else:\n",
        "  print('Reprovado')"
      ],
      "metadata": {
        "id": "pgPRDcZocuPj"
      },
      "execution_count": null,
      "outputs": []
    },
    {
      "cell_type": "code",
      "source": [
        "if nota >= 6:\n",
        "  print('Aprovado')\n",
        "elif nota >= 5 and nota < 6:\n",
        "  print('Recuperação')\n",
        "else:\n",
        "  print('Reprovado')"
      ],
      "metadata": {
        "id": "XdisFeC4cuXc"
      },
      "execution_count": null,
      "outputs": []
    },
    {
      "cell_type": "markdown",
      "source": [
        "# **Estrutura de Repetição**"
      ],
      "metadata": {
        "id": "rfT_MG4peQN3"
      }
    },
    {
      "cell_type": "code",
      "source": [
        "for c in range(0,4):\n",
        "  print (c)"
      ],
      "metadata": {
        "id": "G711UBdBcubx"
      },
      "execution_count": null,
      "outputs": []
    },
    {
      "cell_type": "code",
      "source": [
        "lista = [1, 2, 3, 4, 10]\n",
        "for numero in lista:\n",
        "  print(numero * 2)"
      ],
      "metadata": {
        "id": "JTUwKD4FcugX"
      },
      "execution_count": null,
      "outputs": []
    },
    {
      "cell_type": "code",
      "source": [
        "soma = 0\n",
        "cont = 0\n",
        "for c in range (1, 6):\n",
        "  num = int(input('digite {}o valor: '.format(c)))\n",
        "  if num % 2 == 0:\n",
        "    soma = soma + num\n",
        "    cont = cont + 1\n",
        "print('Você informou {} números pares e a soma deles é igual a {}'.format(cont, soma))"
      ],
      "metadata": {
        "id": "g8URZ2EoculL"
      },
      "execution_count": null,
      "outputs": []
    },
    {
      "cell_type": "code",
      "source": [
        "c = 1\n",
        "while c <= 10:\n",
        "  s = c + 10\n",
        "  print(s)\n",
        "  c = c + 1\n",
        "print('Fim')"
      ],
      "metadata": {
        "id": "LI6rApnki_R4"
      },
      "execution_count": null,
      "outputs": []
    },
    {
      "cell_type": "markdown",
      "source": [
        "# **Listas, Tuplas e Dicionários**"
      ],
      "metadata": {
        "id": "zF93L8-3zcNd"
      }
    },
    {
      "cell_type": "markdown",
      "source": [
        "## Listas"
      ],
      "metadata": {
        "id": "Ws97_3pc2EdW"
      }
    },
    {
      "cell_type": "code",
      "source": [
        "num = [2, 5, 7, 9]"
      ],
      "metadata": {
        "id": "xjnehfuwzm-1"
      },
      "execution_count": null,
      "outputs": []
    },
    {
      "cell_type": "code",
      "source": [
        "num[3] = 4\n",
        "num"
      ],
      "metadata": {
        "id": "CT9uT0zzz3o3"
      },
      "execution_count": null,
      "outputs": []
    },
    {
      "cell_type": "code",
      "source": [
        "num.append(8)  # inclui o número 8\n",
        "num"
      ],
      "metadata": {
        "id": "X_-7J-0Bz4BP"
      },
      "execution_count": null,
      "outputs": []
    },
    {
      "cell_type": "code",
      "source": [
        "num.sort()   # coloca em ordem crescente\n",
        "num"
      ],
      "metadata": {
        "id": "gbbReuMyz4FN"
      },
      "execution_count": null,
      "outputs": []
    },
    {
      "cell_type": "code",
      "source": [
        "num.insert(2, 0)  # adiciona o zero na posição 2\n",
        "num"
      ],
      "metadata": {
        "id": "OvGJPMQ10r-O"
      },
      "execution_count": null,
      "outputs": []
    },
    {
      "cell_type": "code",
      "source": [
        "num.remove(7)  # remove o elemento 7\n",
        "num"
      ],
      "metadata": {
        "id": "5Bv_PsOD0sB1"
      },
      "execution_count": null,
      "outputs": []
    },
    {
      "cell_type": "code",
      "source": [
        "num.pop(3)  # remove o elemento da posição 3\n",
        "num"
      ],
      "metadata": {
        "id": "kONfRnJy0sHl"
      },
      "execution_count": null,
      "outputs": []
    },
    {
      "cell_type": "markdown",
      "source": [
        "## Tuplas"
      ],
      "metadata": {
        "id": "2vlkv8c-1wCf"
      }
    },
    {
      "cell_type": "code",
      "source": [
        "num2 = (2, 5, 7, 9)   #   TUPLA É IMUTÁVEL"
      ],
      "metadata": {
        "id": "iyvQ508wz4Ok"
      },
      "execution_count": null,
      "outputs": []
    },
    {
      "cell_type": "code",
      "source": [
        "# num2.append(8)   # inclui o número 8\n",
        "# num2"
      ],
      "metadata": {
        "id": "FxLwRh0K102n"
      },
      "execution_count": null,
      "outputs": []
    },
    {
      "cell_type": "markdown",
      "source": [
        "## Dicionários"
      ],
      "metadata": {
        "id": "yaCmRLge2hpW"
      }
    },
    {
      "cell_type": "code",
      "source": [
        "pessoas = {'nome': 'Furkan', 'sexo': 'masculino', 'idade': 46}\n",
        "print (pessoas)"
      ],
      "metadata": {
        "id": "yfAmALBB11BH"
      },
      "execution_count": null,
      "outputs": []
    },
    {
      "cell_type": "code",
      "source": [
        "pessoas['cor'] = 'gray'\n",
        "print (pessoas)"
      ],
      "metadata": {
        "id": "Kx-jw7-g2mC2"
      },
      "execution_count": null,
      "outputs": []
    },
    {
      "cell_type": "code",
      "source": [
        "del pessoas['idade']\n",
        "print(pessoas)"
      ],
      "metadata": {
        "id": "6A8Vnrjl2mNP"
      },
      "execution_count": null,
      "outputs": []
    },
    {
      "cell_type": "markdown",
      "source": [
        "# **Funções**"
      ],
      "metadata": {
        "id": "TAXwBpV64Oi-"
      }
    },
    {
      "cell_type": "code",
      "source": [
        "def identificacao(nome, idade):\n",
        "  print('Olá,', nome,'\\nVocê é jovem, tem apenas', idade)"
      ],
      "metadata": {
        "id": "bYngs9Uw2mWo"
      },
      "execution_count": null,
      "outputs": []
    },
    {
      "cell_type": "code",
      "source": [
        "identificacao('Furkan', 46)"
      ],
      "metadata": {
        "id": "wCo2boP_4SdP"
      },
      "execution_count": null,
      "outputs": []
    },
    {
      "cell_type": "code",
      "source": [
        "def maior (x,y):\n",
        "  if x < y:\n",
        "    print ('O maior número é', y)\n",
        "  elif x == y:\n",
        "    print ('Os números são iguais')\n",
        "  else:\n",
        "    print ('O maior número é', x)"
      ],
      "metadata": {
        "id": "KNIocqGG4SkH"
      },
      "execution_count": null,
      "outputs": []
    },
    {
      "cell_type": "code",
      "source": [
        "maior (21,16)"
      ],
      "metadata": {
        "id": "FW_Jwc3Q6eFJ"
      },
      "execution_count": null,
      "outputs": []
    },
    {
      "cell_type": "code",
      "source": [
        "def pitagoras (cat1, cat2, hip):\n",
        "  if hip == '?':\n",
        "    hip = (cat1**2+cat2**2)**(1/2)\n",
        "    print ('A hipotenusa é', hip)\n",
        "  elif cat1 == '?':\n",
        "    cat1 = (hip**2-cat2**2)**(1/2)\n",
        "    print ('O cateto é', cat1)\n",
        "  elif cat2 == '?':\n",
        "    cat2 = (hip**2-cat1**2)**(1/2)\n",
        "    print ('O cateto é', cat2)"
      ],
      "metadata": {
        "id": "VBC-_zTd7TOU"
      },
      "execution_count": null,
      "outputs": []
    },
    {
      "cell_type": "code",
      "source": [
        "pitagoras (13,5,'?')"
      ],
      "metadata": {
        "id": "iVIf1nKQ7TXx"
      },
      "execution_count": null,
      "outputs": []
    },
    {
      "cell_type": "markdown",
      "source": [
        "# **Função lambda e map**"
      ],
      "metadata": {
        "id": "pZCNk4jhGfAK"
      }
    },
    {
      "cell_type": "markdown",
      "source": [
        "## Forma simplificada de escrever funções"
      ],
      "metadata": {
        "id": "OTPfpcPFGkB-"
      }
    },
    {
      "cell_type": "code",
      "source": [
        "def area_quadrado (L):\n",
        "  area = L**2\n",
        "  print(area)"
      ],
      "metadata": {
        "id": "oeLUmcn3GiU2"
      },
      "execution_count": null,
      "outputs": []
    },
    {
      "cell_type": "code",
      "source": [
        "area_quadrado(4)"
      ],
      "metadata": {
        "id": "BSu-r1XzGibm"
      },
      "execution_count": null,
      "outputs": []
    },
    {
      "cell_type": "code",
      "source": [
        "area_quadrado2 = lambda x: x**2"
      ],
      "metadata": {
        "id": "pXoSMxcdGijt"
      },
      "execution_count": null,
      "outputs": []
    },
    {
      "cell_type": "code",
      "source": [
        "area_quadrado2(7)"
      ],
      "metadata": {
        "id": "A8AFOxJBHQzy"
      },
      "execution_count": null,
      "outputs": []
    },
    {
      "cell_type": "code",
      "source": [
        "area_retangulo = lambda b, h: b*h"
      ],
      "metadata": {
        "id": "WH5RPj3_HQ5Y"
      },
      "execution_count": null,
      "outputs": []
    },
    {
      "cell_type": "code",
      "source": [
        "area_retangulo(4,7)"
      ],
      "metadata": {
        "id": "GArMUl8pHRv9"
      },
      "execution_count": null,
      "outputs": []
    },
    {
      "cell_type": "code",
      "source": [
        "# Pode ser utilizada juntamente com outros métodos\n",
        "L = [4,5,6,7,11,9,10]\n",
        "areas = list(map(lambda x: x**2, L))\n",
        "print(areas)"
      ],
      "metadata": {
        "id": "ZcLFt16sH-j_"
      },
      "execution_count": null,
      "outputs": []
    },
    {
      "cell_type": "markdown",
      "source": [
        "# **List Comprehensions**"
      ],
      "metadata": {
        "id": "0prCFuAHXvcJ"
      }
    },
    {
      "cell_type": "markdown",
      "source": [
        "## Otimiza a utilização de listas e diminui linhas de código"
      ],
      "metadata": {
        "id": "v749HwS3X3eR"
      }
    },
    {
      "cell_type": "code",
      "source": [
        "lista = []\n",
        "for valor in range(5):\n",
        "  lista.append(valor+10)\n",
        "print(lista)"
      ],
      "metadata": {
        "id": "sRwUk1osH-uT"
      },
      "execution_count": null,
      "outputs": []
    },
    {
      "cell_type": "code",
      "source": [
        "lista = [valor+10 for valor in range(5)]\n",
        "print(lista)"
      ],
      "metadata": {
        "id": "cV4P8n8VYqTE"
      },
      "execution_count": null,
      "outputs": []
    },
    {
      "cell_type": "code",
      "source": [
        "lista = []\n",
        "for numero in range (1,30):\n",
        "  if numero % 4 == 0:\n",
        "    lista.append(numero)\n",
        "print(lista)"
      ],
      "metadata": {
        "id": "3kYLYq2ZYqbq"
      },
      "execution_count": null,
      "outputs": []
    },
    {
      "cell_type": "code",
      "source": [
        "multiplos4 = [numero for numero in range(1,30) if numero % 4 == 0]\n",
        "print(multiplos4)"
      ],
      "metadata": {
        "id": "9-u09kAiYqj_"
      },
      "execution_count": null,
      "outputs": []
    },
    {
      "cell_type": "code",
      "source": [
        "conceito = ['azul' if nota >= 6 else 'vermelha' for nota in range(1,11)]\n",
        "print(conceito)"
      ],
      "metadata": {
        "id": "PQdnCcZZa82C"
      },
      "execution_count": null,
      "outputs": []
    },
    {
      "cell_type": "markdown",
      "source": [
        "# **Vetores (arrays) e matrizes**"
      ],
      "metadata": {
        "id": "WWwexHsAdJzo"
      }
    },
    {
      "cell_type": "code",
      "source": [
        "vetor = [2,4,5,6]"
      ],
      "metadata": {
        "id": "u1zZb-AedQ3o"
      },
      "execution_count": 1,
      "outputs": []
    },
    {
      "cell_type": "code",
      "source": [
        "type(vetor)"
      ],
      "metadata": {
        "colab": {
          "base_uri": "https://localhost:8080/"
        },
        "id": "UqNF0C40djTo",
        "outputId": "35d9c76f-ef6b-4989-e495-9ea862e040cb"
      },
      "execution_count": 2,
      "outputs": [
        {
          "output_type": "execute_result",
          "data": {
            "text/plain": [
              "list"
            ]
          },
          "metadata": {},
          "execution_count": 2
        }
      ]
    },
    {
      "cell_type": "code",
      "source": [
        "matriz = [[1,2,3],\n",
        "          [4,5,6],\n",
        "          [7,8,9]]"
      ],
      "metadata": {
        "id": "CEllsVgTdjXt"
      },
      "execution_count": 4,
      "outputs": []
    },
    {
      "cell_type": "code",
      "source": [
        "type(matriz)"
      ],
      "metadata": {
        "colab": {
          "base_uri": "https://localhost:8080/"
        },
        "id": "Xge8X0HidQ8f",
        "outputId": "e0084389-b138-44b7-c569-c16099f98a8d"
      },
      "execution_count": 5,
      "outputs": [
        {
          "output_type": "execute_result",
          "data": {
            "text/plain": [
              "list"
            ]
          },
          "metadata": {},
          "execution_count": 5
        }
      ]
    },
    {
      "cell_type": "code",
      "source": [
        "print(matriz)"
      ],
      "metadata": {
        "colab": {
          "base_uri": "https://localhost:8080/"
        },
        "id": "ZnbpWM1hdRGW",
        "outputId": "4e8c47e0-02db-438a-bd71-13a39b137b2c"
      },
      "execution_count": 6,
      "outputs": [
        {
          "output_type": "stream",
          "name": "stdout",
          "text": [
            "[[1, 2, 3], [4, 5, 6], [7, 8, 9]]\n"
          ]
        }
      ]
    },
    {
      "cell_type": "code",
      "source": [
        "import numpy as np"
      ],
      "metadata": {
        "id": "6VgcbIofe59G"
      },
      "execution_count": 3,
      "outputs": []
    },
    {
      "cell_type": "code",
      "source": [
        "vetor2 = np.array([1, -3, 4.2, 5])"
      ],
      "metadata": {
        "id": "dmtzWnSYe6BJ"
      },
      "execution_count": 4,
      "outputs": []
    },
    {
      "cell_type": "code",
      "source": [
        "type(vetor2)"
      ],
      "metadata": {
        "colab": {
          "base_uri": "https://localhost:8080/"
        },
        "id": "nOqvtNbae6Ff",
        "outputId": "c903a1f2-845a-4a58-8238-07ed00d1042b"
      },
      "execution_count": 5,
      "outputs": [
        {
          "output_type": "execute_result",
          "data": {
            "text/plain": [
              "numpy.ndarray"
            ]
          },
          "metadata": {},
          "execution_count": 5
        }
      ]
    },
    {
      "cell_type": "code",
      "source": [
        "print(vetor2)"
      ],
      "metadata": {
        "colab": {
          "base_uri": "https://localhost:8080/"
        },
        "id": "cIYfUvdle6JS",
        "outputId": "4beef375-81ba-46f7-96c6-832719bf44c8"
      },
      "execution_count": 6,
      "outputs": [
        {
          "output_type": "stream",
          "name": "stdout",
          "text": [
            "[ 1.  -3.   4.2  5. ]\n"
          ]
        }
      ]
    },
    {
      "cell_type": "code",
      "source": [
        "matriz2 = np.ones((2,3))\n",
        "matriz2"
      ],
      "metadata": {
        "colab": {
          "base_uri": "https://localhost:8080/"
        },
        "id": "iZZYIFxJe6NX",
        "outputId": "88d70418-da7b-4bd7-8c98-065ad1abc667"
      },
      "execution_count": 7,
      "outputs": [
        {
          "output_type": "execute_result",
          "data": {
            "text/plain": [
              "array([[1., 1., 1.],\n",
              "       [1., 1., 1.]])"
            ]
          },
          "metadata": {},
          "execution_count": 7
        }
      ]
    },
    {
      "cell_type": "code",
      "source": [
        "type(matriz2)"
      ],
      "metadata": {
        "colab": {
          "base_uri": "https://localhost:8080/"
        },
        "id": "rwY1ec2xe6Tb",
        "outputId": "a15f64b5-6d0e-4014-bc5c-14bfb1281257"
      },
      "execution_count": 8,
      "outputs": [
        {
          "output_type": "execute_result",
          "data": {
            "text/plain": [
              "numpy.ndarray"
            ]
          },
          "metadata": {},
          "execution_count": 8
        }
      ]
    },
    {
      "cell_type": "code",
      "source": [
        "matriz3 = np.diag((2,4,6,8,10))\n",
        "matriz3"
      ],
      "metadata": {
        "colab": {
          "base_uri": "https://localhost:8080/"
        },
        "id": "K97sdS_8FH7T",
        "outputId": "cd35c300-3c2e-4742-ab23-f33e72c35d4d"
      },
      "execution_count": 9,
      "outputs": [
        {
          "output_type": "execute_result",
          "data": {
            "text/plain": [
              "array([[ 2,  0,  0,  0,  0],\n",
              "       [ 0,  4,  0,  0,  0],\n",
              "       [ 0,  0,  6,  0,  0],\n",
              "       [ 0,  0,  0,  8,  0],\n",
              "       [ 0,  0,  0,  0, 10]])"
            ]
          },
          "metadata": {},
          "execution_count": 9
        }
      ]
    },
    {
      "cell_type": "code",
      "source": [
        "type(matriz3)"
      ],
      "metadata": {
        "colab": {
          "base_uri": "https://localhost:8080/"
        },
        "id": "s-ADSSSnFRru",
        "outputId": "bea07ad1-c7ac-4657-9410-604e40ba9a65"
      },
      "execution_count": 10,
      "outputs": [
        {
          "output_type": "execute_result",
          "data": {
            "text/plain": [
              "numpy.ndarray"
            ]
          },
          "metadata": {},
          "execution_count": 10
        }
      ]
    }
  ]
}